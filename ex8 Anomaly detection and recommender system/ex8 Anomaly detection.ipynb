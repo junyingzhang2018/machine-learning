{
 "cells": [
  {
   "cell_type": "markdown",
   "metadata": {},
   "source": [
    "### ex8 Anomaly detection\n",
    "\n",
    "We will implement the anomaly detection algorithm and apply it to detect failing servers on a network. "
   ]
  },
  {
   "cell_type": "code",
   "execution_count": 1,
   "metadata": {
    "collapsed": true
   },
   "outputs": [],
   "source": [
    "import numpy as np\n",
    "import pandas as pd\n",
    "import matplotlib.pyplot as plt\n",
    "%matplotlib inline\n",
    "import math\n",
    "from scipy.optimize import minimize\n",
    "from scipy.io import loadmat"
   ]
  },
  {
   "cell_type": "markdown",
   "metadata": {},
   "source": [
    "#### Part 1: Load Example Dataset  \n",
    "\n",
    "We start this exercise by using a small dataset that is easy to visualize.\n",
    "Our example case consists of 2 network server statistics across several machines: the latency and throughput of each machine. This exercise will help us find possibly faulty (or very fast) machines."
   ]
  },
  {
   "cell_type": "code",
   "execution_count": 52,
   "metadata": {
    "collapsed": false
   },
   "outputs": [
    {
     "name": "stdout",
     "output_type": "stream",
     "text": [
      "(307, 2)\n"
     ]
    }
   ],
   "source": [
    "#  The following command loads the dataset. You should now have the\n",
    "#  variables X, Xval, yval in your environment\n",
    "\n",
    "data1=loadmat('ex8data1.mat');\n",
    "X=data1['X']\n",
    "Xval=data1['Xval']\n",
    "yval=data1['yval']\n",
    "print(X.shape)"
   ]
  },
  {
   "cell_type": "code",
   "execution_count": 11,
   "metadata": {
    "collapsed": false
   },
   "outputs": [
    {
     "data": {
      "image/png": "[encoded data removed]",
      "text/plain": [
       "<matplotlib.figure.Figure at 0xb9f52b0>"
      ]
     },
     "metadata": {},
     "output_type": "display_data"
    }
   ],
   "source": [
    "#  Visualize the example dataset\n",
    "plt.figure(figsize=(8,6))\n",
    "plt.scatter(X[:,0], X[:,1], color='b', marker='x',s=15);\n",
    "plt.axis([0, 30, 0, 30]);\n",
    "plt.xlabel('Latency (ms)');\n",
    "plt.ylabel('Throughput (mb/s)');"
   ]
  },
  {
   "cell_type": "markdown",
   "metadata": {},
   "source": [
    "#### Part 2: Estimate the dataset statistics\n",
    "\n",
    "For this exercise, we assume a Gaussian distribution for the dataset.\n",
    "\n",
    "We first estimate the parameters of our assumed Gaussian distribution, then compute the probabilities for each of the points and then visualize both the overall distribution and where each of the points falls in terms of that distribution."
   ]
  },
  {
   "cell_type": "code",
   "execution_count": 12,
   "metadata": {
    "collapsed": true
   },
   "outputs": [],
   "source": [
    "def estimateGaussian(X):   \n",
    "#ESTIMATEGAUSSIAN This function estimates the parameters of a \n",
    "#Gaussian distribution using the data in X\n",
    "#   [mu sigma2] = estimateGaussian(X), \n",
    "#   The input X is the dataset with each n-dimensional data point in one row\n",
    "#   The output is an n-dimensional vector mu, the mean of the data set\n",
    "#   and the variances sigma^2, an n x 1 vector\n",
    "# \n",
    "\n",
    "# Useful variables\n",
    "    [m, n] = X.shape\n",
    "\n",
    "# You should return these values correctly\n",
    "    mu = np.zeros((n, 1));\n",
    "    sigma2 = np.zeros((n, 1));\n",
    "    mu=X.mean(axis=0)\n",
    "    sigma2=X.var(axis=0)\n",
    "    \n",
    "    return mu,sigma2\n",
    "\n",
    "# ====================== YOUR CODE HERE ======================\n",
    "# Instructions: Compute the mean of the data and the variances\n",
    "#               In particular, mu(i) should contain the mean of\n",
    "#               the data for the i-th feature and sigma2(i)\n",
    "#               should contain variance of the i-th feature."
   ]
  },
  {
   "cell_type": "code",
   "execution_count": 18,
   "metadata": {
    "collapsed": false
   },
   "outputs": [
    {
     "name": "stdout",
     "output_type": "stream",
     "text": [
      "Visualizing Gaussian fit.\n",
      "\n"
     ]
    }
   ],
   "source": [
    "print('Visualizing Gaussian fit.\\n');\n",
    "\n",
    "#  Estimate mu and sigma2\n",
    "mu,Sigma2 = estimateGaussian(X);"
   ]
  },
  {
   "cell_type": "code",
   "execution_count": 37,
   "metadata": {
    "collapsed": false
   },
   "outputs": [],
   "source": [
    "k = mu.shape[0];\n",
    "Sigma2 = np.diag(Sigma2);\n",
    "Sigma2\n",
    "cons=(2 * math.pi)**(- k / 2) * np.linalg.det(Sigma2)**(-0.5)"
   ]
  },
  {
   "cell_type": "code",
   "execution_count": 41,
   "metadata": {
    "collapsed": false
   },
   "outputs": [],
   "source": [
    "cons=(2 * math.pi)**(- k / 2) * np.linalg.det(Sigma2)**(-0.5)\n",
    "exp=np.exp(-0.5*(((X-mu).T.dot(X-mu))).dot(np.linalg.inv(Sigma2)))"
   ]
  },
  {
   "cell_type": "code",
   "execution_count": 49,
   "metadata": {
    "collapsed": true
   },
   "outputs": [],
   "source": [
    "def multivariateGaussian(X, mu, Sigma2):\n",
    "#MULTIVARIATEGAUSSIAN Computes the probability density function of the\n",
    "#multivariate gaussian distribution.\n",
    "#    p = MULTIVARIATEGAUSSIAN(X, mu, Sigma2) Computes the probability \n",
    "#    density function of the examples X under the multivariate gaussian \n",
    "#    distribution with parameters mu and Sigma2. If Sigma2 is a matrix, it is\n",
    "#    treated as the covariance matrix. If Sigma2 is a vector, it is treated\n",
    "#    as the \\sigma^2 values of the variances in each dimension (a diagonal\n",
    "#    covariance matrix)\n",
    "    k = mu.shape[0];\n",
    "    Sigma2 = np.diag(Sigma2);\n",
    "    cons=(2 * math.pi)**(- k / 2) * np.linalg.det(Sigma2)**(-0.5)\n",
    "    exp=np.exp((-0.5*(((X-mu).dot(np.linalg.inv(Sigma2)))).dot((X-mu).T)).sum(axis=0))\n",
    "    p = cons*exp\n",
    "    \n",
    "    return p"
   ]
  },
  {
   "cell_type": "code",
   "execution_count": 51,
   "metadata": {
    "collapsed": false
   },
   "outputs": [
    {
     "data": {
      "text/plain": [
       "(307,)"
      ]
     },
     "execution_count": 51,
     "metadata": {},
     "output_type": "execute_result"
    }
   ],
   "source": [
    "#  Returns the density of the multivariate normal at each data point (row) of X\n",
    "p = multivariateGaussian(X, mu, sigma2);\n",
    "p.shape"
   ]
  },
  {
   "cell_type": "code",
   "execution_count": 57,
   "metadata": {
    "collapsed": false
   },
   "outputs": [
    {
     "data": {
      "text/plain": [
       "(71, 142)"
      ]
     },
     "execution_count": 57,
     "metadata": {},
     "output_type": "execute_result"
    }
   ],
   "source": [
    "X1, X2= np.meshgrid(np.arange(0,35.1,0.5), np.arange(0,35.1,0.5)); \n",
    "np.column_stack((X1,X2)).shape"
   ]
  },
  {
   "cell_type": "code",
   "execution_count": 60,
   "metadata": {
    "collapsed": false
   },
   "outputs": [],
   "source": [
    "def visualizeFit(X, mu, sigma2):\n",
    "#   VISUALIZEFIT Visualize the dataset and its estimated distribution.\n",
    "#   VISUALIZEFIT(X, p, mu, sigma2) This visualization shows you the \n",
    "#   probability density function of the Gaussian distribution. Each example\n",
    "#   has a location (x1, x2) that depends on its feature values.\n",
    "    X1, X2= np.meshgrid(np.arange(0,35.1,0.5), np.arange(0,35.1,0.5)); \n",
    "    Z = multivariateGaussian(np.column_stack((X1.reshape(X1.size, order='F'),X2.reshape(X2.size, order='F'))),mu,sigma2);\n",
    "    Z = Z.reshape(X1.shape, order='F');\n",
    "\n",
    "    plt.scatter(X[:,0], X[:,1], color='b', marker='x');\n",
    "\n",
    "# Do not plot if there are infinities\n",
    "\n",
    "    plt.contour(X1, X2, Z, np.power(10, (np.arange(-20, 0.1, 3)).T));\n"
   ]
  },
  {
   "cell_type": "code",
   "execution_count": 81,
   "metadata": {
    "collapsed": false
   },
   "outputs": [
    {
     "data": {
      "text/plain": [
       "(5041, 2)"
      ]
     },
     "execution_count": 81,
     "metadata": {},
     "output_type": "execute_result"
    }
   ],
   "source": [
    "X1,X2 = np.meshgrid(np.arange(0, 35.1, 0.5), np.arange(0, 35.1, 0.5))\n",
    "np.column_stack((X1.reshape((X1.size,1), order='F'), X2.reshape((X2.size,1), order='F'))).shape"
   ]
  },
  {
   "cell_type": "code",
   "execution_count": 86,
   "metadata": {
    "collapsed": false
   },
   "outputs": [
    {
     "name": "stderr",
     "output_type": "stream",
     "text": [
      "C:\\Users\\jzhang11\\AppData\\Local\\Continuum\\Anaconda3\\lib\\site-packages\\ipykernel\\__main__.py:13: RuntimeWarning: overflow encountered in exp\n"
     ]
    }
   ],
   "source": [
    "Z = multivariateGaussian(np.column_stack((X1.reshape((X1.size,1), order='F'), X2.reshape((X2.size,1), order='F'))), mu, sigma2)"
   ]
  },
  {
   "cell_type": "code",
   "execution_count": null,
   "metadata": {
    "collapsed": true
   },
   "outputs": [],
   "source": []
  },
  {
   "cell_type": "code",
   "execution_count": 92,
   "metadata": {
    "collapsed": false
   },
   "outputs": [
    {
     "data": {
      "text/plain": [
       "<matplotlib.contour.QuadContourSet at 0xb9f49b0>"
      ]
     },
     "execution_count": 92,
     "metadata": {},
     "output_type": "execute_result"
    },
    {
     "data": {
      "image/png": "[encoded data removed]",
      "text/plain": [
       "<matplotlib.figure.Figure at 0xbd04550>"
      ]
     },
     "metadata": {},
     "output_type": "display_data"
    }
   ],
   "source": [
    "plt.contour(X1.reshape((X1.size,1), order='F'), X2.reshape((X2.size,1), order='F'), Z.reshape((-1,1)), np.power(10,(np.arange(-20, 0.1, 3)).T))"
   ]
  },
  {
   "cell_type": "code",
   "execution_count": 88,
   "metadata": {
    "collapsed": false
   },
   "outputs": [],
   "source": [
    "def visualizeFit(X, mu, sigma2):\n",
    "    #VISUALIZEFIT Visualize the dataset and its estimated distribution.\n",
    "    #   VISUALIZEFIT(X, p, mu, sigma2) This visualization shows you the \n",
    "    #   probability density function of the Gaussian distribution. Each example\n",
    "    #   has a location (x1, x2) that depends on its feature values.\n",
    "    #\n",
    "\n",
    "    X1,X2 = np.meshgrid(np.arange(0, 35.1, 0.5), np.arange(0, 35.1, 0.5))\n",
    "    Z = multivariateGaussian(np.column_stack((X1.reshape((X1.size,1), order='F'), X2.reshape((X2.size,1), order='F'))), mu, sigma2)\n",
    "\n",
    "    plt.plot(X[:, 0], X[:, 1],'bx', markersize=13, markeredgewidth=1)\n",
    "    # plt.scatter(X[:, 0], X[:, 1], s=150, c='b', marker='x', linewidths=1)\n",
    "\n",
    "    plt.hold(True)\n",
    "    # Do not plot if there are infinities\n",
    "    if (np.sum(np.isinf(Z)) == 0):\n",
    "        plt.contour(X1, X2, Z, np.power(10,(np.arange(-20, 0.1, 3)).T))\n",
    "\n",
    "    plt.hold(False)"
   ]
  },
  {
   "cell_type": "code",
   "execution_count": 89,
   "metadata": {
    "collapsed": false
   },
   "outputs": [
    {
     "name": "stderr",
     "output_type": "stream",
     "text": [
      "C:\\Users\\jzhang11\\AppData\\Local\\Continuum\\Anaconda3\\lib\\site-packages\\ipykernel\\__main__.py:13: RuntimeWarning: overflow encountered in exp\n",
      "C:\\Users\\jzhang11\\AppData\\Local\\Continuum\\Anaconda3\\lib\\site-packages\\ipykernel\\__main__.py:14: MatplotlibDeprecationWarning: pyplot.hold is deprecated.\n",
      "    Future behavior will be consistent with the long-time default:\n",
      "    plot commands add elements without first clearing the\n",
      "    Axes and/or Figure.\n",
      "C:\\Users\\jzhang11\\AppData\\Local\\Continuum\\Anaconda3\\lib\\site-packages\\matplotlib\\__init__.py:917: UserWarning: axes.hold is deprecated. Please remove it from your matplotlibrc and/or style files.\n",
      "  warnings.warn(self.msg_depr_set % key)\n",
      "C:\\Users\\jzhang11\\AppData\\Local\\Continuum\\Anaconda3\\lib\\site-packages\\matplotlib\\rcsetup.py:152: UserWarning: axes.hold is deprecated, will be removed in 3.0\n",
      "  warnings.warn(\"axes.hold is deprecated, will be removed in 3.0\")\n",
      "C:\\Users\\jzhang11\\AppData\\Local\\Continuum\\Anaconda3\\lib\\site-packages\\ipykernel\\__main__.py:19: MatplotlibDeprecationWarning: pyplot.hold is deprecated.\n",
      "    Future behavior will be consistent with the long-time default:\n",
      "    plot commands add elements without first clearing the\n",
      "    Axes and/or Figure.\n"
     ]
    },
    {
     "data": {
      "image/png": "[encoded data removed]",
      "text/plain": [
       "<matplotlib.figure.Figure at 0xbbd1c88>"
      ]
     },
     "metadata": {},
     "output_type": "display_data"
    }
   ],
   "source": [
    "#  Visualize the fit\n",
    "visualizeFit(X,  mu, sigma2);\n",
    "plt.xlabel('Latency (ms)');\n",
    "plt.ylabel('Throughput (mb/s)');"
   ]
  },
  {
   "cell_type": "code",
   "execution_count": 17,
   "metadata": {
    "collapsed": false
   },
   "outputs": [
    {
     "data": {
      "text/plain": [
       "1.8326314134945172"
      ]
     },
     "execution_count": 17,
     "metadata": {},
     "output_type": "execute_result"
    }
   ],
   "source": [
    "X[:,0].var()"
   ]
  },
  {
   "cell_type": "code",
   "execution_count": 66,
   "metadata": {
    "collapsed": false
   },
   "outputs": [
    {
     "data": {
      "text/plain": [
       "array([  0. ,   0.5,   1. ,   1.5,   2. ,   2.5,   3. ,   3.5,   4. ,\n",
       "         4.5,   5. ,   5.5,   6. ,   6.5,   7. ,   7.5,   8. ,   8.5,\n",
       "         9. ,   9.5,  10. ,  10.5,  11. ,  11.5,  12. ,  12.5,  13. ,\n",
       "        13.5,  14. ,  14.5,  15. ,  15.5,  16. ,  16.5,  17. ,  17.5,\n",
       "        18. ,  18.5,  19. ,  19.5,  20. ,  20.5,  21. ,  21.5,  22. ,\n",
       "        22.5,  23. ,  23.5,  24. ,  24.5,  25. ,  25.5,  26. ,  26.5,\n",
       "        27. ,  27.5,  28. ,  28.5,  29. ,  29.5,  30. ,  30.5,  31. ,\n",
       "        31.5,  32. ,  32.5,  33. ,  33.5,  34. ,  34.5,  35. ])"
      ]
     },
     "execution_count": 66,
     "metadata": {},
     "output_type": "execute_result"
    }
   ],
   "source": [
    "a=np.arange(0, 35.1, 0.5)\n",
    "b=np.arange(0, 35.1, 0.5)\n",
    "a"
   ]
  },
  {
   "cell_type": "code",
   "execution_count": 68,
   "metadata": {
    "collapsed": false
   },
   "outputs": [
    {
     "data": {
      "text/plain": [
       "(71, 71)"
      ]
     },
     "execution_count": 68,
     "metadata": {},
     "output_type": "execute_result"
    }
   ],
   "source": [
    "X1,X2 = np.meshgrid(np.arange(0, 35.1, 0.5), np.arange(0, 35.1, 0.5))\n",
    "X1.shape"
   ]
  },
  {
   "cell_type": "code",
   "execution_count": 74,
   "metadata": {
    "collapsed": false
   },
   "outputs": [
    {
     "data": {
      "text/plain": [
       "5041"
      ]
     },
     "execution_count": 74,
     "metadata": {},
     "output_type": "execute_result"
    }
   ],
   "source": [
    "X1.reshape(X1.size, order='F')\n",
    "X1.size"
   ]
  },
  {
   "cell_type": "code",
   "execution_count": 70,
   "metadata": {
    "collapsed": true
   },
   "outputs": [],
   "source": [
    "a=[1,2,3,4]\n",
    "b=[1,2,3,4]\n",
    "x1,x2=np.meshgrid(a,b)\n"
   ]
  },
  {
   "cell_type": "code",
   "execution_count": 71,
   "metadata": {
    "collapsed": false
   },
   "outputs": [
    {
     "data": {
      "text/plain": [
       "array([[1, 2, 3, 4],\n",
       "       [1, 2, 3, 4],\n",
       "       [1, 2, 3, 4],\n",
       "       [1, 2, 3, 4]])"
      ]
     },
     "execution_count": 71,
     "metadata": {},
     "output_type": "execute_result"
    }
   ],
   "source": [
    "x1"
   ]
  },
  {
   "cell_type": "code",
   "execution_count": 72,
   "metadata": {
    "collapsed": false
   },
   "outputs": [
    {
     "data": {
      "text/plain": [
       "array([[1, 1, 1, 1],\n",
       "       [2, 2, 2, 2],\n",
       "       [3, 3, 3, 3],\n",
       "       [4, 4, 4, 4]])"
      ]
     },
     "execution_count": 72,
     "metadata": {},
     "output_type": "execute_result"
    }
   ],
   "source": [
    "x2"
   ]
  },
  {
   "cell_type": "code",
   "execution_count": null,
   "metadata": {
    "collapsed": true
   },
   "outputs": [],
   "source": []
  }
 ],
 "metadata": {
  "kernelspec": {
   "display_name": "Python 3",
   "language": "python",
   "name": "python3"
  },
  "language_info": {
   "codemirror_mode": {
    "name": "ipython",
    "version": 3
   },
   "file_extension": ".py",
   "mimetype": "text/x-python",
   "name": "python",
   "nbconvert_exporter": "python",
   "pygments_lexer": "ipython3",
   "version": "3.6.0"
  }
 },
 "nbformat": 4,
 "nbformat_minor": 2
}
