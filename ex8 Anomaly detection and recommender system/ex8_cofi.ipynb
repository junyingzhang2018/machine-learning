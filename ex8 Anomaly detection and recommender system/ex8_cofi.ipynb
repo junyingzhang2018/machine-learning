{
 "cells": [
  {
   "cell_type": "markdown",
   "metadata": {},
   "source": [
    "#### ex8 Collaborative filtering learning algorithm"
   ]
  },
  {
   "cell_type": "markdown",
   "metadata": {},
   "source": [
    "You will implement the collaborative filtering learning algorithms. The collorative filtering algorithm in the setting of movie recommendation considers a set of n-dimensional parameter vectors x1,x2,...,x(nm) and theta1, theta2,...,theta(nu), where the model predicts the rating for movie i by user j. y(i,j)=thetaj.T*xi."
   ]
  },
  {
   "cell_type": "code",
   "execution_count": 1,
   "metadata": {
    "collapsed": true
   },
   "outputs": [],
   "source": [
    "import numpy as np\n",
    "import pandas as pd\n",
    "import matplotlib.pyplot as plt\n",
    "%matplotlib inline\n",
    "import math\n",
    "from scipy.optimize import minimize\n",
    "from scipy.io import loadmat"
   ]
  },
  {
   "cell_type": "markdown",
   "metadata": {},
   "source": [
    "#### Part 1: Loading movie ratings dataset \n",
    "\n",
    "You will start by loading the movie ratings dataset to understand the structure of the data."
   ]
  },
  {
   "cell_type": "code",
   "execution_count": 6,
   "metadata": {
    "collapsed": false
   },
   "outputs": [
    {
     "name": "stdout",
     "output_type": "stream",
     "text": [
      "Loading movie ratings dataset.\n",
      "(1682, 943)\n",
      "(1682, 943)\n"
     ]
    }
   ],
   "source": [
    "print('Loading movie ratings dataset.');\n",
    "\n",
    "#  Load data\n",
    "movie=loadmat('ex8_movies.mat');\n",
    "#  Y is a 1682x943 matrix, containing ratings (1-5) of 1682 movies on 943 users\n",
    "# R is a 1682x943 matrix, where R(i,j) = 1 if and only if user j gave a \n",
    "# rating to movie i\n",
    "Y=movie['Y']\n",
    "R=movie['R']\n",
    "print(Y.shape)\n",
    "print(R.shape)"
   ]
  },
  {
   "cell_type": "code",
   "execution_count": 14,
   "metadata": {
    "collapsed": false
   },
   "outputs": [
    {
     "name": "stdout",
     "output_type": "stream",
     "text": [
      "Average rating for movie 1 (Toy Story):  4.52067868505\n"
     ]
    }
   ],
   "source": [
    "#  From the matrix, we can compute statistics like average rating.\n",
    "print('Average rating for movie 1 (Toy Story): ', np.mean(Y[0,R[0,:]]));"
   ]
  },
  {
   "cell_type": "code",
   "execution_count": 15,
   "metadata": {
    "collapsed": false
   },
   "outputs": [
    {
     "data": {
      "image/png": "[encoded data removed]",
      "text/plain": [
       "<matplotlib.figure.Figure at 0xa4254a8>"
      ]
     },
     "metadata": {},
     "output_type": "display_data"
    }
   ],
   "source": [
    "#  We can \"visualize\" the ratings matrix by plotting it with imagesc\n",
    "# need aspect='auto' for a ~16:9 (vs almost vertical) aspect\n",
    "plt.imshow(Y, aspect='auto') \n",
    "plt.ylabel('Movies')\n",
    "plt.xlabel('Users')\n",
    "plt.show(block=False)"
   ]
  },
  {
   "cell_type": "markdown",
   "metadata": {},
   "source": [
    "#### Part 2: Collaborative Filtering Cost Function\n",
    "You will now implement the cost function for collaborative filtering.\n",
    "To help you debug your cost function, we have included set of weights\n",
    "that we trained on that. Specifically, you should complete the code in \n",
    "cofiCostFunc.m to return J."
   ]
  },
  {
   "cell_type": "code",
   "execution_count": null,
   "metadata": {
    "collapsed": true
   },
   "outputs": [],
   "source": [
    "# Load pre-trained weights (X, Theta, num_users, num_movies, num_features)\n",
    "load ('ex8_movieParams.mat');\n",
    "\n",
    "%  Reduce the data set size so that this runs faster\n",
    "num_users = 4; num_movies = 5; num_features = 3;\n",
    "X = X(1:num_movies, 1:num_features);\n",
    "Theta = Theta(1:num_users, 1:num_features);\n",
    "Y = Y(1:num_movies, 1:num_users);\n",
    "R = R(1:num_movies, 1:num_users);"
   ]
  }
 ],
 "metadata": {
  "kernelspec": {
   "display_name": "Python 3",
   "language": "python",
   "name": "python3"
  },
  "language_info": {
   "codemirror_mode": {
    "name": "ipython",
    "version": 3
   },
   "file_extension": ".py",
   "mimetype": "text/x-python",
   "name": "python",
   "nbconvert_exporter": "python",
   "pygments_lexer": "ipython3",
   "version": "3.6.0"
  }
 },
 "nbformat": 4,
 "nbformat_minor": 2
}
