{
 "cells": [
  {
   "cell_type": "markdown",
   "metadata": {},
   "source": [
    "## Regularized logistic regression\n",
    "\n",
    "you will implement regularized logistic regression to predict whether microchips from a fabrication plant passes quality assurance (QA).\n",
    "\n",
    "Suppose you are the product manager of the factory and you have the\n",
    "test results for some microchips on two different tests. From these two tests,\n",
    "you would like to determine whether the microchips should be accepted or rejected.\n"
   ]
  },
  {
   "cell_type": "code",
   "execution_count": 8,
   "metadata": {
    "collapsed": true
   },
   "outputs": [],
   "source": [
    "import pandas as pd\n",
    "import numpy as np\n",
    "import seaborn as sns\n",
    "import matplotlib.pyplot as plt\n",
    "%matplotlib inline"
   ]
  },
  {
   "cell_type": "markdown",
   "metadata": {},
   "source": [
    "### 1. Load and check data"
   ]
  },
  {
   "cell_type": "code",
   "execution_count": 9,
   "metadata": {
    "collapsed": false
   },
   "outputs": [
    {
     "name": "stdout",
     "output_type": "stream",
     "text": [
      "      test1    test2  result\n",
      "0  0.051267  0.69956       1\n",
      "1 -0.092742  0.68494       1 \n",
      "\n",
      "        test1     test2  result\n",
      "116 -0.006336  0.999270       0\n",
      "117  0.632650 -0.030612       0 \n",
      "\n",
      "(118, 3)\n"
     ]
    }
   ],
   "source": [
    "# Load training data, the first two columns contains the exam score and the third column contains the label\n",
    "train=pd.read_csv('ex2data2.txt', names=['test1','test2', 'result'])\n",
    "print(train.head(2),'\\n')\n",
    "print(train.tail(2), '\\n')\n",
    "print(train.shape)"
   ]
  },
  {
   "cell_type": "code",
   "execution_count": 10,
   "metadata": {
    "collapsed": true
   },
   "outputs": [],
   "source": [
    "y=train['result']\n",
    "m=train.shape[0]"
   ]
  },
  {
   "cell_type": "markdown",
   "metadata": {},
   "source": [
    "### 2: Visualization: plot\n",
    "\n",
    "we start by plotting the data we are working with"
   ]
  },
  {
   "cell_type": "code",
   "execution_count": 11,
   "metadata": {
    "collapsed": false
   },
   "outputs": [
    {
     "data": {
      "text/plain": [
       "<matplotlib.text.Text at 0xbb220f0>"
      ]
     },
     "execution_count": 11,
     "metadata": {},
     "output_type": "execute_result"
    },
    {
     "data": {
      "image/png": "[encoded data removed]",
      "text/plain": [
       "<matplotlib.figure.Figure at 0xbb0beb8>"
      ]
     },
     "metadata": {},
     "output_type": "display_data"
    }
   ],
   "source": [
    "sns.pairplot(x_vars='test1', y_vars='test2', data=train, hue='result',size=5, markers=['o','+'], palette={1:'b',0:'r'})\n",
    "plt.xlabel('Microchip test 1')\n",
    "plt.ylabel(\"Microchip test 2\")"
   ]
  },
  {
   "cell_type": "markdown",
   "metadata": {},
   "source": [
    "### 3. Feature mapping\n",
    "\n",
    "one way to fit the data better is to create more features from the data points."
   ]
  },
  {
   "cell_type": "code",
   "execution_count": 12,
   "metadata": {
    "collapsed": false
   },
   "outputs": [],
   "source": [
    "#mapFeature, map the features into all polynomial terms of x1 and x2 up to the sixth power\n",
    "def mapFeature(X1, X2):\n",
    "    \n",
    "    \"\"\"\n",
    "    MAPFEATURE Feature mapping function to polynomial features\n",
    "    MAPFEATURE(X1, X2) maps the two input features to quadratic features used in the regularization exercise.\n",
    "    returns a new feature array with more features, comprising of X1, X2, X1.^2, X2.^2, X1*X2, X1*X2.^2, etc..\n",
    "    \"\"\"\n",
    "    degree = 6;\n",
    "    out = pd.Series(np.ones(len(X1)))  #x0=1\n",
    "    for i in range(1,degree+1):\n",
    "        for j in range(0,i+1):\n",
    "            out=pd.concat((out, X1**(i-j)*(X2**j)), axis=1)\n",
    "    return out"
   ]
  },
  {
   "cell_type": "code",
   "execution_count": 13,
   "metadata": {
    "collapsed": false
   },
   "outputs": [
    {
     "data": {
      "text/plain": [
       "(118, 28)"
      ]
     },
     "execution_count": 13,
     "metadata": {},
     "output_type": "execute_result"
    }
   ],
   "source": [
    "X=mapFeature(train['test1'],train['test2'])\n",
    "# features are 1, x1,x2,x1^2,x1x2, x2^2,x1^3....,x2^6\n",
    "X.shape"
   ]
  },
  {
   "cell_type": "markdown",
   "metadata": {},
   "source": [
    "### 4. Cost function and gradient for regularized logistic regression\n",
    "\n",
    "We will not regularize theta0 since theta0*1 is the intercept"
   ]
  },
  {
   "cell_type": "code",
   "execution_count": 17,
   "metadata": {
    "collapsed": true
   },
   "outputs": [],
   "source": [
    "def sigmoid(z):\n",
    "    return 1/(1+np.exp(-1*z))\n",
    "    \"\"\"\n",
    "    SIGMOID Compute sigmoid function\n",
    "    g = SIGMOID(z) computes the sigmoid of z.\n",
    "    Compute the sigmoid of each value of z (z can be a matrix, vector or scalar).\n",
    "    \"\"\"  "
   ]
  },
  {
   "cell_type": "code",
   "execution_count": 18,
   "metadata": {
    "collapsed": false
   },
   "outputs": [],
   "source": [
    "def costFunctionReg(theta, X, y, lambdapar):\n",
    "\n",
    "    \"\"\"\n",
    "    COSTFUNCTIONREG Compute cost and gradient for logistic regression with regularization\n",
    "    J = COSTFUNCTIONREG(theta, X, y, lambda) computes the cost of using\n",
    "    theta as the parameter for regularized logistic regression and the\n",
    "    gradient of the cost w.r.t. to the parameters.\n",
    "    \"\"\"\n",
    "    # Initialize some useful values\n",
    "    m = len(y) \n",
    "    J = 0\n",
    "    grad = np.zeros(len(theta))\n",
    "    newtheta=theta.copy()\n",
    "    newtheta[0]=0\n",
    "\n",
    "    J=(-y.T.dot(np.log(sigmoid(X.dot(theta))))-(1-y).T.dot(np.log(1-sigmoid(X.dot(theta)))))/m+lambdapar*(newtheta*newtheta).sum()/2/m    \n",
    "    grad=X.T.dot((sigmoid(X.dot(theta))-np.array(y).reshape(m,1)))/m+lambdapar/m*newtheta\n",
    "    return J, grad"
   ]
  },
  {
   "cell_type": "code",
   "execution_count": 19,
   "metadata": {
    "collapsed": false
   },
   "outputs": [
    {
     "name": "stdout",
     "output_type": "stream",
     "text": [
      "(28, 1)\n"
     ]
    }
   ],
   "source": [
    "# Initialize fitting parameters\n",
    "initial_theta = np.zeros((X.shape[1], 1))\n",
    "print(initial_theta.shape)\n",
    "lambdapar=1"
   ]
  },
  {
   "cell_type": "code",
   "execution_count": 21,
   "metadata": {
    "collapsed": false
   },
   "outputs": [
    {
     "name": "stdout",
     "output_type": "stream",
     "text": [
      "Cost returned by our costfunction is 0.693\n",
      "True cost from the ex2.pdf is 0.693\n"
     ]
    }
   ],
   "source": [
    "J,grad=costFunctionReg(initial_theta, X, y, lambdapar)\n",
    "print('Cost returned by our costfunction is', np.round(J[0],3))\n",
    "print('True cost from the ex2.pdf is 0.693')"
   ]
  },
  {
   "cell_type": "markdown",
   "metadata": {},
   "source": [
    "### 5. Learning parameters using scipy.optimize in Python"
   ]
  },
  {
   "cell_type": "code",
   "execution_count": 22,
   "metadata": {
    "collapsed": false
   },
   "outputs": [
    {
     "data": {
      "text/plain": [
       "array([ 1.27271027,  0.62529965,  1.18111686, -2.01987399, -0.9174319 ,\n",
       "       -1.43166929,  0.12393227, -0.36553118, -0.35725403, -0.17516291,\n",
       "       -1.45817009, -0.05098418, -0.61558551, -0.27469165, -1.19271297,\n",
       "       -0.2421784 , -0.20603295, -0.04466179, -0.27778953, -0.29539513,\n",
       "       -0.45645981, -1.04319156,  0.02779373, -0.29244874,  0.01555761,\n",
       "       -0.32742407, -0.14389151, -0.92467487])"
      ]
     },
     "execution_count": 22,
     "metadata": {},
     "output_type": "execute_result"
    }
   ],
   "source": [
    "import numpy as np\n",
    "import scipy.optimize as op\n",
    "\n",
    "X=np.array(X)\n",
    "y=np.array(y)\n",
    "\n",
    "def Sigmoid(z):\n",
    "    return 1/(1 + np.exp(-z));\n",
    "\n",
    "def Gradient(theta,x,y):\n",
    "    m , n = x.shape\n",
    "    theta = theta.reshape((n,1))\n",
    "    newtheta=theta.copy()\n",
    "    newtheta[0]=0\n",
    "    y = y.reshape((m,1))\n",
    "    sigmoid_x_theta = Sigmoid(x.dot(theta));\n",
    "    grad = ((x.T).dot(sigmoid_x_theta-y))/m+lambdapar/m*newtheta;\n",
    "    return grad.flatten();\n",
    "\n",
    "def CostFunc(theta,x,y):\n",
    "    m,n = x.shape; \n",
    "    theta = theta.reshape((n,1))\n",
    "    newtheta=theta.copy()\n",
    "    newtheta[0]=0 \n",
    "    y = y.reshape((m,1));\n",
    "    term1 = np.log(Sigmoid(x.dot(theta)));\n",
    "    term2 = np.log(1-Sigmoid(x.dot(theta)));\n",
    "    term1 = term1.reshape((m,1))\n",
    "    term2 = term2.reshape((m,1))\n",
    "    term = y * term1 + (1 - y) * term2;\n",
    "    J = -((np.sum(term))/m)+lambdapar*(newtheta*newtheta).sum()/2/m ;\n",
    "    return J;\n",
    "\n",
    "m , n = X.shape;\n",
    "initial_theta = np.zeros(n);\n",
    "# jac: Jacobian (gradient) of objective function. Only for CG, BFGS, Newton-CG, L-BFGS-B, TNC, SLSQP, dogleg, trust-ncg.\n",
    "Result = op.minimize(fun = CostFunc, x0 = initial_theta, args = (X, y),method = 'TNC',jac = Gradient);\n",
    "optimal_theta = Result.x;     \n",
    "optimal_theta"
   ]
  },
  {
   "cell_type": "code",
   "execution_count": 23,
   "metadata": {
    "collapsed": true
   },
   "outputs": [],
   "source": [
    "def plotData(X, y):\n",
    "#PLOTDATA Plots the data points X and y into a new figure \n",
    "#   PLOTDATA(x,y) plots the data points with + for the positive examples\n",
    "#   and o for the negative examples. X is assumed to be a Mx2 matrix.\n",
    "\n",
    "    import matplotlib.pyplot as plt\n",
    "    import numpy as np\n",
    "    \n",
    "    # Find Indices of Positive and Negative Examples\n",
    "    pos = np.where(y==1)\n",
    "    neg = np.where(y==0)\n",
    "\n",
    "    p1=plt.scatter(X[pos,0], X[pos,1], marker='+', label='y=1')\n",
    "    p2=plt.scatter(X[neg,0], X[neg,1], marker='o', label='y=0')\n"
   ]
  },
  {
   "cell_type": "markdown",
   "metadata": {},
   "source": [
    "### 6. Plot decision boundary"
   ]
  },
  {
   "cell_type": "code",
   "execution_count": 31,
   "metadata": {
    "collapsed": false
   },
   "outputs": [
    {
     "data": {
      "image/png": "[encoded data removed]",
      "text/plain": [
       "<matplotlib.figure.Figure at 0xc336b38>"
      ]
     },
     "metadata": {},
     "output_type": "display_data"
    }
   ],
   "source": [
    "def plotDecisionBoundary(theta, X, y):\n",
    "#PLOTDECISIONBOUNDARY Plots the data points X and y into a new figure with\n",
    "#the decision boundary defined by theta\n",
    "#   PLOTDECISIONBOUNDARY(theta, X,y) plots the data points with + for the \n",
    "#   positive examples and o for the negative examples. X is assumed to be \n",
    "#   a either \n",
    "#   1) Mx3 matrix, where the first column is an all-ones column for the \n",
    "#      intercept.\n",
    "#   2) MxN, N>3 matrix, where the first column is all-ones\n",
    "\n",
    "    import matplotlib.pyplot as plt\n",
    "    import numpy as np\n",
    "    import mapFeature as mf\n",
    "\n",
    "    # Plot Data\n",
    "    fig = plt.figure()\n",
    "    plotData(X[:,1:3], y)\n",
    "\n",
    "    if X.shape[1] <= 3:\n",
    "        # Only need 2 points to define a line, so choose two endpoints\n",
    "        plot_x = np.array([min(X[:,1])-2,  max(X[:,1])+2])\n",
    "\n",
    "        # Calculate the decision boundary line\n",
    "        plot_y = (-1./theta[2])*(theta[1]*plot_x + theta[0])\n",
    "\n",
    "        # Plot, and adjust axes for better viewing\n",
    "        plt.plot(plot_x, plot_y, label='Decision Boundary')\n",
    "        \n",
    "        # Legend, specific for the exercise\n",
    "        plt.legend(loc='upper left')\n",
    "        \n",
    "    else:\n",
    "        # Here is the grid range\n",
    "        u = np.linspace(-1, 1.5, 50)\n",
    "        v = np.linspace(-1, 1.5, 50)\n",
    "\n",
    "        z = np.zeros((len(u),len(v) ))\n",
    "        # Evaluate z = theta*x over the grid\n",
    "        for i in range(len(u)):\n",
    "            for j in range(len(v)):\n",
    "                z[i,j] = np.dot(mf.mapFeature(np.array([u[i]]), np.array([v[j]])),theta)\n",
    "        z = np.transpose(z) # important to transpose z before calling contour\n",
    "\n",
    "        # Plot z = 0\n",
    "        # Notice you need to specify the level 0\n",
    "        # we get collections[0] so that we can display a legend properly\n",
    "        plt.contour(u, v, z, levels=[0], linewidth=2, label='Decision Boundary',colors='r').collections[0]\n",
    "        plt.legend(loc='upper left')\n",
    "        \n",
    "plotDecisionBoundary(optimal_theta, X, y)    "
   ]
  },
  {
   "cell_type": "markdown",
   "metadata": {},
   "source": [
    "### 7. Evaluate a logistic regression\n"
   ]
  },
  {
   "cell_type": "code",
   "execution_count": 29,
   "metadata": {
    "collapsed": false
   },
   "outputs": [
    {
     "name": "stdout",
     "output_type": "stream",
     "text": [
      "Train Accuracy: 83.1\n",
      "Expected accuracy (approx): 83.1\n",
      "\n"
     ]
    }
   ],
   "source": [
    "def predict(theta, X):\n",
    "    \"\"\"\n",
    "    PREDICT Predict whether the label is 0 or 1 using learned logistic regression parameters theta\n",
    "    p = PREDICT(theta, X) computes the predictions for X using a threshold at 0.5 \n",
    "    (i.e., if sigmoid(theta'*x) >= 0.5, predict 1)\n",
    "    \"\"\"\n",
    "    m,n = X.shape\n",
    "    p = np.zeros((m, 1))\n",
    "    theta_x=X.dot(theta.reshape(n,1))\n",
    "    prob=Sigmoid(theta_x)\n",
    "    p=(prob>=0.5).astype(int)\n",
    "    return p\n",
    "\n",
    "p=predict(optimal_theta, X)\n",
    "\n",
    "print('Train Accuracy:', np.round(np.mean((p.reshape(m,)==y).astype(int)) * 100,1));\n",
    "print('Expected accuracy (approx): 83.1\\n');"
   ]
  }
 ],
 "metadata": {
  "kernelspec": {
   "display_name": "Python 3",
   "language": "python",
   "name": "python3"
  },
  "language_info": {
   "codemirror_mode": {
    "name": "ipython",
    "version": 3
   },
   "file_extension": ".py",
   "mimetype": "text/x-python",
   "name": "python",
   "nbconvert_exporter": "python",
   "pygments_lexer": "ipython3",
   "version": "3.6.0"
  }
 },
 "nbformat": 4,
 "nbformat_minor": 2
}
