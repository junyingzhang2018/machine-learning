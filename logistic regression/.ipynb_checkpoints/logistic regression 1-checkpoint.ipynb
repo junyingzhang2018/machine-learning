{
 "cells": [
  {
   "cell_type": "markdown",
   "metadata": {},
   "source": [
    "## Logistic regression\n",
    "\n",
    "Build a logistic regression to predict whether a student will be enrolled into a university.\n",
    "\n",
    "For the training data, we have the applicant's score on two examples and the admission decision."
   ]
  },
  {
   "cell_type": "code",
   "execution_count": 1,
   "metadata": {
    "collapsed": true
   },
   "outputs": [],
   "source": [
    "import pandas as pd\n",
    "import numpy as np\n",
    "import seaborn as sns\n",
    "import matplotlib.pyplot as plt\n",
    "%matplotlib inline"
   ]
  },
  {
   "cell_type": "code",
   "execution_count": 64,
   "metadata": {
    "collapsed": false
   },
   "outputs": [
    {
     "name": "stdout",
     "output_type": "stream",
     "text": [
      "       exam1      exam2  result\n",
      "0  34.623660  78.024693       0\n",
      "1  30.286711  43.894998       0\n",
      "        exam1      exam2  result\n",
      "98  55.340018  64.931938       1\n",
      "99  74.775893  89.529813       1\n",
      "(100, 3)\n"
     ]
    }
   ],
   "source": [
    "# Load training data, the first two columns contains the exam score and the third column contains the label\n",
    "train=pd.read_csv('ex2data1.txt', names=['exam1','exam2', 'result'])\n",
    "print(train.head(2))\n",
    "print(train.tail(2))\n",
    "print(train.shape)"
   ]
  },
  {
   "cell_type": "code",
   "execution_count": 101,
   "metadata": {
    "collapsed": false
   },
   "outputs": [],
   "source": [
    "X=train[['exam1','exam2']]\n",
    "y=train['result']\n",
    "m,n=X.shape[0], X.shape[1]\n",
    "X=pd.concat((pd.DataFrame(np.ones((m,1))), X), axis=1) # add x0=1 for X\n",
    "X.head(2)\n",
    "m,n=X.shape[0], X.shape[1]"
   ]
  },
  {
   "cell_type": "markdown",
   "metadata": {},
   "source": [
    "### Part I: Visualization: plot\n",
    "\n",
    "we start by plotting the data we are working with"
   ]
  },
  {
   "cell_type": "code",
   "execution_count": 66,
   "metadata": {
    "collapsed": false
   },
   "outputs": [
    {
     "data": {
      "text/plain": [
       "<seaborn.axisgrid.PairGrid at 0xbe03780>"
      ]
     },
     "execution_count": 66,
     "metadata": {},
     "output_type": "execute_result"
    },
    {
     "data": {
      "image/png": "[encoded data removed]",
      "text/plain": [
       "<matplotlib.figure.Figure at 0xbe03748>"
      ]
     },
     "metadata": {},
     "output_type": "display_data"
    }
   ],
   "source": [
    "sns.pairplot(x_vars='exam1', y_vars='exam2', data=train, hue='result',size=5)"
   ]
  },
  {
   "cell_type": "markdown",
   "metadata": {},
   "source": [
    "### Part II: Implementation\n",
    "\n",
    "#### 2.1 Sigmoid function"
   ]
  },
  {
   "cell_type": "code",
   "execution_count": 67,
   "metadata": {
    "collapsed": false
   },
   "outputs": [],
   "source": [
    "def sigmoid(z):\n",
    "    return 1/(1+np.exp(-1*z))\n",
    "    \"\"\"\n",
    "    SIGMOID Compute sigmoid function\n",
    "    g = SIGMOID(z) computes the sigmoid of z.\n",
    "    Compute the sigmoid of each value of z (z can be a matrix, vector or scalar).\n",
    "    \"\"\"  "
   ]
  },
  {
   "cell_type": "code",
   "execution_count": 68,
   "metadata": {
    "collapsed": false
   },
   "outputs": [
    {
     "name": "stdout",
     "output_type": "stream",
     "text": [
      "0.5\n",
      "[ 0.5  0.5  0.5]\n",
      "[[ 0.5  0.5  0.5  0.5  0.5]\n",
      " [ 0.5  0.5  0.5  0.5  0.5]\n",
      " [ 0.5  0.5  0.5  0.5  0.5]\n",
      " [ 0.5  0.5  0.5  0.5  0.5]\n",
      " [ 0.5  0.5  0.5  0.5  0.5]]\n"
     ]
    }
   ],
   "source": [
    "# Check the sigmoid function on a scalor, series and data frame\n",
    "print(sigmoid(0))\n",
    "print(sigmoid(np.array([0,0,0])))\n",
    "print(sigmoid(np.zeros((5,5))))"
   ]
  },
  {
   "cell_type": "markdown",
   "metadata": {},
   "source": [
    "#### 2.2 Cost function and gradient"
   ]
  },
  {
   "cell_type": "code",
   "execution_count": 69,
   "metadata": {
    "collapsed": true
   },
   "outputs": [],
   "source": [
    "def costFunction(theta, X, y):\n",
    "    \"\"\"\n",
    "    COSTFUNCTION Compute cost and gradient for logistic regression\n",
    "    J = COSTFUNCTION(theta, X, y) computes the cost of using theta as the parameter for logistic regression \n",
    "    and the gradient of the cost w.r.t. to the parameters.\n",
    "    \"\"\"\n",
    "\n",
    "    # Initialize some useful values\n",
    "    m = len(y)\n",
    "    grad = np.zeros(len(theta))\n",
    "\n",
    "# Compute the cost of a particular choice of theta. You should set J to the cost.\n",
    "# Compute the partial derivatives and set grad to the partial derivatives of the cost w.r.t. each parameter in theta\n",
    "    J=(-y.T.dot(np.log(sigmoid(X.dot(theta))))-(1-y).T.dot(np.log(1-sigmoid(X.dot(theta)))))/m\n",
    "    grad=X.T.dot((sigmoid(X.dot(theta))-np.array(y).reshape(m,1)))/m\n",
    "    return (J,grad)"
   ]
  },
  {
   "cell_type": "code",
   "execution_count": 70,
   "metadata": {
    "collapsed": false
   },
   "outputs": [
    {
     "name": "stdout",
     "output_type": "stream",
     "text": [
      "0    0.693147\n",
      "Name: result, dtype: float64\n"
     ]
    },
    {
     "data": {
      "text/html": [
       "<div>\n",
       "<style>\n",
       "    .dataframe thead tr:only-child th {\n",
       "        text-align: right;\n",
       "    }\n",
       "\n",
       "    .dataframe thead th {\n",
       "        text-align: left;\n",
       "    }\n",
       "\n",
       "    .dataframe tbody tr th {\n",
       "        vertical-align: top;\n",
       "    }\n",
       "</style>\n",
       "<table border=\"1\" class=\"dataframe\">\n",
       "  <thead>\n",
       "    <tr style=\"text-align: right;\">\n",
       "      <th></th>\n",
       "      <th>0</th>\n",
       "    </tr>\n",
       "  </thead>\n",
       "  <tbody>\n",
       "    <tr>\n",
       "      <th>0</th>\n",
       "      <td>-0.100000</td>\n",
       "    </tr>\n",
       "    <tr>\n",
       "      <th>exam1</th>\n",
       "      <td>-12.009217</td>\n",
       "    </tr>\n",
       "    <tr>\n",
       "      <th>exam2</th>\n",
       "      <td>-11.262842</td>\n",
       "    </tr>\n",
       "  </tbody>\n",
       "</table>\n",
       "</div>"
      ],
      "text/plain": [
       "               0\n",
       "0      -0.100000\n",
       "exam1 -12.009217\n",
       "exam2 -11.262842"
      ]
     },
     "execution_count": 70,
     "metadata": {},
     "output_type": "execute_result"
    }
   ],
   "source": [
    "# Initialize fitting parameters\n",
    "initial_theta = np.zeros((n, 1))\n",
    "\n",
    "# Compute and display initial cost and gradient\n",
    "[cost, grad] = costFunction(initial_theta, X, y)\n",
    "print(cost)\n",
    "grad"
   ]
  },
  {
   "cell_type": "code",
   "execution_count": 71,
   "metadata": {
    "collapsed": false
   },
   "outputs": [
    {
     "name": "stdout",
     "output_type": "stream",
     "text": [
      "Cost at initial theta (zeros): 0    0.693147\n",
      "Name: result, dtype: float64\n",
      "Expected cost (approx): 0.693\n",
      "Gradient at initial theta (zeros):                 0\n",
      "0      -0.100000\n",
      "exam1 -12.009217\n",
      "exam2 -11.262842\n",
      "Expected gradients (approx):-0.1000, -12.0092, -11.2628\n",
      "Cost at test theta: %f\n",
      " 0    0.21833\n",
      "Name: result, dtype: float64\n",
      "Expected cost (approx): 0.218\n",
      "\n",
      "Gradient at test theta: \n",
      "\n",
      " %f \n",
      "               0\n",
      "0      0.042903\n",
      "exam1  2.566234\n",
      "exam2  2.646797\n",
      "Expected gradients (approx):\n",
      " 0.043\n",
      " 2.566\n",
      " 2.647\n",
      "\n"
     ]
    }
   ],
   "source": [
    "print('Cost at initial theta (zeros):', cost)\n",
    "print('Expected cost (approx): 0.693')\n",
    "print('Gradient at initial theta (zeros): ', grad);\n",
    "print('Expected gradients (approx):-0.1000, -12.0092, -11.2628')\n",
    "\n",
    "# Compute and display cost and gradient with non-zero theta\n",
    "test_theta = np.array([-24, 0.2, 0.2]).reshape(3,1)\n",
    "[cost, grad] = costFunction(test_theta, X, y)\n",
    "\n",
    "print('Cost at test theta: %f\\n', cost)\n",
    "print('Expected cost (approx): 0.218\\n')\n",
    "print('Gradient at test theta: \\n')\n",
    "print(' %f \\n', grad)\n",
    "print('Expected gradients (approx):\\n 0.043\\n 2.566\\n 2.647\\n')"
   ]
  },
  {
   "cell_type": "markdown",
   "metadata": {},
   "source": [
    "#### 2.3 Learning parameters using fminunc\n",
    "\n",
    "Concretely, you are going to use fminunc to find the best parameters theta\n",
    "for the logistic regression cost function, given a fixed dataset (of X and y\n",
    "values). You will pass to fminunc the following inputs:\n",
    "\n",
    "1. The initial values of the parameters we are trying to optimize theta\n",
    "\n",
    "2. A function, given the training set (X,y) that compute the J, grad with respect to theta data (X,y)"
   ]
  },
  {
   "cell_type": "code",
   "execution_count": 110,
   "metadata": {
    "collapsed": false
   },
   "outputs": [
    {
     "data": {
      "text/plain": [
       "array([ 77.74468294, -25.66384708,  -4.04583556])"
      ]
     },
     "execution_count": 110,
     "metadata": {},
     "output_type": "execute_result"
    }
   ],
   "source": [
    "import numpy as np\n",
    "import scipy.optimize as op\n",
    "\n",
    "def Sigmoid(z):\n",
    "    return 1/(1 + np.exp(-z));\n",
    "\n",
    "def Gradient(theta,x,y):\n",
    "    m , n = x.shape\n",
    "    theta = theta.reshape((n,1));\n",
    "    y = y.reshape((m,1))\n",
    "    sigmoid_x_theta = Sigmoid(x.dot(theta));\n",
    "    grad = ((x.T).dot(sigmoid_x_theta-y))/m;\n",
    "    return grad.flatten();\n",
    "\n",
    "def CostFunc(theta,x,y):\n",
    "    m,n = x.shape; \n",
    "    theta = theta.reshape((n,1));\n",
    "    y = y.reshape((m,1));\n",
    "    term1 = np.log(Sigmoid(x.dot(theta)));\n",
    "    term2 = np.log(1-Sigmoid(x.dot(theta)));\n",
    "    term1 = term1.reshape((m,1))\n",
    "    term2 = term2.reshape((m,1))\n",
    "    term = y * term1 + (1 - y) * term2;  #element multiplication, not matrix multiplication\n",
    "    J = -((np.sum(term))/m);\n",
    "    return J;\n",
    "\n",
    "# intialize X and y\n",
    "X = np.array([[1,2,3],[1,3,4]]);\n",
    "y = np.array([[1],[0]]);\n",
    "\n",
    "m , n = X.shape;\n",
    "initial_theta = np.zeros(n);\n",
    "Result = op.minimize(fun = CostFunc, x0 = initial_theta, args = (X, y),method = 'TNC',jac = Gradient);\n",
    "optimal_theta = Result.x;     \n",
    "optimal_theta"
   ]
  },
  {
   "cell_type": "code",
   "execution_count": 96,
   "metadata": {
    "collapsed": false
   },
   "outputs": [
    {
     "data": {
      "text/plain": [
       "array([ 77.74468294, -25.66384708,  -4.04583556])"
      ]
     },
     "execution_count": 96,
     "metadata": {},
     "output_type": "execute_result"
    }
   ],
   "source": [
    "import numpy as np\n",
    "import scipy.optimize as op\n",
    "\n",
    "def Sigmoid(z):\n",
    "    return 1/(1 + np.exp(-z));\n",
    "\n",
    "def Gradient(theta,x,y):\n",
    "    m , n = x.shape\n",
    "    theta = theta.reshape((n,1));\n",
    "    y = y.reshape((m,1))\n",
    "    sigmoid_x_theta = Sigmoid(x.dot(theta));\n",
    "    grad = ((x.T).dot(sigmoid_x_theta-y))/m;\n",
    "    return grad.flatten();\n",
    "\n",
    "def CostFunc(theta,x,y):\n",
    "    m,n = x.shape; \n",
    "    theta = theta.reshape((n,1));\n",
    "    y = y.reshape((m,1));\n",
    "    term1 = np.log(Sigmoid(x.dot(theta)));\n",
    "    term2 = np.log(1-Sigmoid(x.dot(theta)));\n",
    "    term1 = term1.reshape((m,1))\n",
    "    term2 = term2.reshape((m,1))\n",
    "    term = y * term1 + (1 - y) * term2;\n",
    "    J = -((np.sum(term))/m);\n",
    "    return J;\n",
    "\n",
    "# intialize X and y\n",
    "X = np.array([[1,2,3],[1,3,4]]);\n",
    "y = np.array([[1],[0]]);\n",
    "\n",
    "m , n = X.shape;\n",
    "initial_theta = np.zeros(n);\n",
    "Result = op.minimize(fun = CostFunc, x0 = initial_theta, args = (X, y),method = 'TNC',jac = Gradient);\n",
    "optimal_theta = Result.x;     \n",
    "optimal_theta"
   ]
  }
 ],
 "metadata": {
  "kernelspec": {
   "display_name": "Python 3",
   "language": "python",
   "name": "python3"
  },
  "language_info": {
   "codemirror_mode": {
    "name": "ipython",
    "version": 3
   },
   "file_extension": ".py",
   "mimetype": "text/x-python",
   "name": "python",
   "nbconvert_exporter": "python",
   "pygments_lexer": "ipython3",
   "version": "3.6.0"
  }
 },
 "nbformat": 4,
 "nbformat_minor": 2
}
