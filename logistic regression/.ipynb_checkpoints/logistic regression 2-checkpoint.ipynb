{
 "cells": [
  {
   "cell_type": "markdown",
   "metadata": {},
   "source": [
    "## Regularized logistic regression\n",
    "\n",
    "you will implement regularized logistic regression to predict whether microchips from a fabrication plant passes quality assurance (QA).\n",
    "\n",
    "Suppose you are the product manager of the factory and you have the\n",
    "test results for some microchips on two different tests. From these two tests,\n",
    "you would like to determine whether the microchips should be accepted or rejected.\n"
   ]
  },
  {
   "cell_type": "code",
   "execution_count": 1,
   "metadata": {
    "collapsed": true
   },
   "outputs": [],
   "source": [
    "import pandas as pd\n",
    "import numpy as np\n",
    "import seaborn as sns\n",
    "import matplotlib.pyplot as plt\n",
    "%matplotlib inline"
   ]
  },
  {
   "cell_type": "code",
   "execution_count": 4,
   "metadata": {
    "collapsed": false
   },
   "outputs": [
    {
     "name": "stdout",
     "output_type": "stream",
     "text": [
      "      test1    test2  result\n",
      "0  0.051267  0.69956       1\n",
      "1 -0.092742  0.68494       1\n",
      " \n",
      "        test1     test2  result\n",
      "116 -0.006336  0.999270       0\n",
      "117  0.632650 -0.030612       0\n",
      " \n",
      "(118, 3)\n"
     ]
    }
   ],
   "source": [
    "# Load training data, the first two columns contains the exam score and the third column contains the label\n",
    "train=pd.read_csv('ex2data2.txt', names=['test1','test2', 'result'])\n",
    "print(train.head(2))\n",
    "print(\" \")\n",
    "print(train.tail(2))\n",
    "print(\" \")\n",
    "print(train.shape)"
   ]
  },
  {
   "cell_type": "code",
   "execution_count": 49,
   "metadata": {
    "collapsed": true
   },
   "outputs": [],
   "source": [
    "y=train['result']\n",
    "m=train.shape[0]"
   ]
  },
  {
   "cell_type": "markdown",
   "metadata": {},
   "source": [
    "### Part I: Visualization: plot\n",
    "\n",
    "we start by plotting the data we are working with"
   ]
  },
  {
   "cell_type": "code",
   "execution_count": 50,
   "metadata": {
    "collapsed": false
   },
   "outputs": [
    {
     "data": {
      "text/plain": [
       "<matplotlib.text.Text at 0xc101240>"
      ]
     },
     "execution_count": 50,
     "metadata": {},
     "output_type": "execute_result"
    },
    {
     "data": {
      "image/png": "[encoded data removed]",
      "text/plain": [
       "<matplotlib.figure.Figure at 0xbfb52b0>"
      ]
     },
     "metadata": {},
     "output_type": "display_data"
    }
   ],
   "source": [
    "sns.pairplot(x_vars='test1', y_vars='test2', data=train, hue='result',size=5, markers=['o','+'], palette={1:'b',0:'r'})\n",
    "plt.xlabel('Microchip test 1')\n",
    "plt.ylabel(\"Microchip test 2\")"
   ]
  },
  {
   "cell_type": "markdown",
   "metadata": {},
   "source": [
    "### 2.1 Feature mapping\n",
    "\n",
    "one way to fit the data better is to create more features from the data points."
   ]
  },
  {
   "cell_type": "code",
   "execution_count": 51,
   "metadata": {
    "collapsed": false
   },
   "outputs": [],
   "source": [
    "#mapFeature, map the features into all polynomial terms of x1 and x2 up to the sixth power\n",
    "def mapFeature(X1, X2):\n",
    "    \n",
    "    \"\"\"\n",
    "    MAPFEATURE Feature mapping function to polynomial features\n",
    "    MAPFEATURE(X1, X2) maps the two input features to quadratic features used in the regularization exercise.\n",
    "    eturns a new feature array with more features, comprising of X1, X2, X1.^2, X2.^2, X1*X2, X1*X2.^2, etc..\n",
    "    \"\"\"\n",
    "    degree = 6;\n",
    "    out = pd.Series(np.ones(len(X1)))\n",
    "    for i in range(1,degree+1):\n",
    "        for j in range(0,i+1):\n",
    "            out=pd.concat((out, X1**(i-j)*(X2**j)), axis=1)\n",
    "    return out\n"
   ]
  },
  {
   "cell_type": "code",
   "execution_count": 53,
   "metadata": {
    "collapsed": false
   },
   "outputs": [
    {
     "data": {
      "text/plain": [
       "(118, 28)"
      ]
     },
     "execution_count": 53,
     "metadata": {},
     "output_type": "execute_result"
    }
   ],
   "source": [
    "X=mapFeature(train['test1'],train['test2'])\n",
    "# features are 1, x1,x2,x1^2,x1x2, x2^2,x1^3....,x2^6\n",
    "X.shape"
   ]
  },
  {
   "cell_type": "markdown",
   "metadata": {},
   "source": [
    "### 2.2 Cost function and gradient for regularized logistic regression\n",
    "\n",
    "We will not regularize theta0"
   ]
  },
  {
   "cell_type": "code",
   "execution_count": null,
   "metadata": {
    "collapsed": true
   },
   "outputs": [],
   "source": [
    "def sigmoid(z):\n",
    "    return 1/(1+np.exp(-1*z))\n",
    "    \"\"\"\n",
    "    SIGMOID Compute sigmoid function\n",
    "    g = SIGMOID(z) computes the sigmoid of z.\n",
    "    Compute the sigmoid of each value of z (z can be a matrix, vector or scalar).\n",
    "    \"\"\"  "
   ]
  },
  {
   "cell_type": "code",
   "execution_count": null,
   "metadata": {
    "collapsed": true
   },
   "outputs": [],
   "source": [
    "def costFunction(theta, X, y):\n",
    "    \"\"\"\n",
    "    COSTFUNCTION Compute cost and gradient for logistic regression\n",
    "    J = COSTFUNCTION(theta, X, y) computes the cost of using theta as the parameter for logistic regression \n",
    "    and the gradient of the cost w.r.t. to the parameters.\n",
    "    \"\"\"\n",
    "\n",
    "    # Initialize some useful values\n",
    "    m = len(y)\n",
    "    grad = np.zeros(len(theta))\n",
    "\n",
    "# Compute the cost of a particular choice of theta. You should set J to the cost.\n",
    "# Compute the partial derivatives and set grad to the partial derivatives of the cost w.r.t. each parameter in theta\n",
    "    J=(-y.T.dot(np.log(sigmoid(X.dot(theta))))-(1-y).T.dot(np.log(1-sigmoid(X.dot(theta)))))/m\n",
    "    grad=X.T.dot((sigmoid(X.dot(theta))-np.array(y).reshape(m,1)))/m\n",
    "    return (J,grad)"
   ]
  },
  {
   "cell_type": "code",
   "execution_count": null,
   "metadata": {
    "collapsed": true
   },
   "outputs": [],
   "source": [
    "def costFunctionReg(theta, X, y, lambda):\n",
    "\n",
    "    \"\"\"\n",
    "    COSTFUNCTIONREG Compute cost and gradient for logistic regression with regularization\n",
    "    J = COSTFUNCTIONREG(theta, X, y, lambda) computes the cost of using\n",
    "    theta as the parameter for regularized logistic regression and the\n",
    "    gradient of the cost w.r.t. to the parameters.\n",
    "    \"\"\"\n",
    "# Initialize some useful values\n",
    "    m = len(y) \n",
    "    J = 0\n",
    "    grad = np.zeros(len(theta))\n",
    "    newtheta=theta.copy()\n",
    "    newtheta[0]=0\n",
    "    J=(-y.T.dot(np.log(sigmoid(X.dot(theta))))-(1-y).T.dot(np.log(1-sigmoid(X.dot(theta)))))/m+lambda*(theta*theta).sum()/2/m    \n",
    "    grad=X.T.dot((sigmoid(X.dot(theta))-np.array(y).reshape(m,1)))/m+lambda/m*theta\n",
    "    return J, grad"
   ]
  }
 ],
 "metadata": {
  "kernelspec": {
   "display_name": "Python 3",
   "language": "python",
   "name": "python3"
  },
  "language_info": {
   "codemirror_mode": {
    "name": "ipython",
    "version": 3
   },
   "file_extension": ".py",
   "mimetype": "text/x-python",
   "name": "python",
   "nbconvert_exporter": "python",
   "pygments_lexer": "ipython3",
   "version": "3.6.0"
  }
 },
 "nbformat": 4,
 "nbformat_minor": 2
}
