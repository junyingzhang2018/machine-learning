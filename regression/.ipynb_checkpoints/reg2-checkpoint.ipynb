{
 "cells": [
  {
   "cell_type": "markdown",
   "metadata": {},
   "source": [
    "# Multiple linear regression: Linear regression with multiple variables"
   ]
  },
  {
   "cell_type": "markdown",
   "metadata": {},
   "source": [
    "In this part, you will implement linear regression with multiple variables to\n",
    "predict the prices of houses. Suppose you are selling your house and you\n",
    "want to know what a good market price would be. One way to do this is to\n",
    "first collect information on recent houses sold and make a model of housing\n",
    "prices.\n",
    "\n",
    "The file ex1data2.txt contains a training set of housing prices in Port-\n",
    "land, Oregon. The first column is the size of the house (in square feet), the\n",
    "second column is the number of bedrooms, and the third column is the price\n",
    "of the house."
   ]
  },
  {
   "cell_type": "code",
   "execution_count": 1,
   "metadata": {
    "collapsed": true
   },
   "outputs": [],
   "source": [
    "import pandas as pd\n",
    "import numpy as np"
   ]
  },
  {
   "cell_type": "code",
   "execution_count": 9,
   "metadata": {
    "collapsed": false
   },
   "outputs": [
    {
     "name": "stdout",
     "output_type": "stream",
     "text": [
      "   square  bedroom   price\n",
      "0    2104        3  399900\n",
      "1    1600        3  329900\n",
      "\n",
      "    square  bedroom   price\n",
      "45    1852        4  299900\n",
      "46    1203        3  239500\n",
      "\n",
      "(47, 3)\n"
     ]
    }
   ],
   "source": [
    "house=pd.read_csv('ex1data2.txt', names=['square','bedroom','price'])\n",
    "# Check data are loaded correctly\n",
    "print(house.head(2))\n",
    "print('')\n",
    "print(house.tail(2))\n",
    "print('')\n",
    "print(house.shape)"
   ]
  },
  {
   "cell_type": "code",
   "execution_count": 11,
   "metadata": {
    "collapsed": false
   },
   "outputs": [],
   "source": [
    "X=house[['square','bedroom']]\n",
    "y=house['price']\n",
    "m=X.shape[0]"
   ]
  },
  {
   "cell_type": "markdown",
   "metadata": {},
   "source": [
    "### 1. Feature Normalization\n",
    "\n",
    "When features differ by orders of magnitude, first perform feature scaling can make gradient descent converge much more quickly.\n",
    "\n",
    "1. Substract the mean value of each feature from the dataset\n",
    "2. Divide the feature value by their standard deviation\n",
    "3. When normalizing the features, it is important to store the values used for normalization. Given a new X value, we must first normalize x using the mean and standard deviation that we had previously computed from the training set."
   ]
  },
  {
   "cell_type": "code",
   "execution_count": 12,
   "metadata": {
    "collapsed": true
   },
   "outputs": [],
   "source": [
    "def featureNormalize(X):\n",
    "    \"\"\"\n",
    "    FEATURENORMALIZE Normalizes the features in X \n",
    "    FEATURENORMALIZE(X) returns a normalized version of X where the mean value of each feature is 0 \n",
    "    and the standard deviation is 1. This is often a good preprocessing step to do when\n",
    "    working with learning algorithms.\n",
    "    \"\"\"\n",
    "    mu=X.mean()\n",
    "    sigma=X.std()\n",
    "    X_norm=(X-mu)/sigma\n",
    "    return (X_norm, mu, sigma)"
   ]
  },
  {
   "cell_type": "code",
   "execution_count": 18,
   "metadata": {
    "collapsed": false
   },
   "outputs": [
    {
     "name": "stdout",
     "output_type": "stream",
     "text": [
      "square     2000.680851\n",
      "bedroom       3.170213\n",
      "dtype: float64\n",
      "square     794.702354\n",
      "bedroom      0.760982\n",
      "dtype: float64\n"
     ]
    }
   ],
   "source": [
    "(X_norm, mu, sigma)=featureNormalize(X)\n",
    "print(mu)\n",
    "print(sigma)"
   ]
  },
  {
   "cell_type": "code",
   "execution_count": 19,
   "metadata": {
    "collapsed": false
   },
   "outputs": [
    {
     "data": {
      "text/html": [
       "<div>\n",
       "<style>\n",
       "    .dataframe thead tr:only-child th {\n",
       "        text-align: right;\n",
       "    }\n",
       "\n",
       "    .dataframe thead th {\n",
       "        text-align: left;\n",
       "    }\n",
       "\n",
       "    .dataframe tbody tr th {\n",
       "        vertical-align: top;\n",
       "    }\n",
       "</style>\n",
       "<table border=\"1\" class=\"dataframe\">\n",
       "  <thead>\n",
       "    <tr style=\"text-align: right;\">\n",
       "      <th></th>\n",
       "      <th>0</th>\n",
       "      <th>square</th>\n",
       "      <th>bedroom</th>\n",
       "    </tr>\n",
       "  </thead>\n",
       "  <tbody>\n",
       "    <tr>\n",
       "      <th>0</th>\n",
       "      <td>1.0</td>\n",
       "      <td>0.130010</td>\n",
       "      <td>-0.223675</td>\n",
       "    </tr>\n",
       "    <tr>\n",
       "      <th>1</th>\n",
       "      <td>1.0</td>\n",
       "      <td>-0.504190</td>\n",
       "      <td>-0.223675</td>\n",
       "    </tr>\n",
       "    <tr>\n",
       "      <th>2</th>\n",
       "      <td>1.0</td>\n",
       "      <td>0.502476</td>\n",
       "      <td>-0.223675</td>\n",
       "    </tr>\n",
       "    <tr>\n",
       "      <th>3</th>\n",
       "      <td>1.0</td>\n",
       "      <td>-0.735723</td>\n",
       "      <td>-1.537767</td>\n",
       "    </tr>\n",
       "    <tr>\n",
       "      <th>4</th>\n",
       "      <td>1.0</td>\n",
       "      <td>1.257476</td>\n",
       "      <td>1.090417</td>\n",
       "    </tr>\n",
       "  </tbody>\n",
       "</table>\n",
       "</div>"
      ],
      "text/plain": [
       "     0    square   bedroom\n",
       "0  1.0  0.130010 -0.223675\n",
       "1  1.0 -0.504190 -0.223675\n",
       "2  1.0  0.502476 -0.223675\n",
       "3  1.0 -0.735723 -1.537767\n",
       "4  1.0  1.257476  1.090417"
      ]
     },
     "execution_count": 19,
     "metadata": {},
     "output_type": "execute_result"
    }
   ],
   "source": [
    "X_norm=pd.concat((pd.DataFrame(np.ones((m,1))), X_norm), axis=1)\n",
    "X_norm.head()"
   ]
  },
  {
   "cell_type": "markdown",
   "metadata": {},
   "source": [
    "### 2. Gradient descent"
   ]
  },
  {
   "cell_type": "code",
   "execution_count": 20,
   "metadata": {
    "collapsed": true
   },
   "outputs": [],
   "source": [
    "def computeCost(X, y, theta):\n",
    "    \n",
    "    \"\"\"\n",
    "    Compute cost function J(theta) for simple linear regression\n",
    "    X: feature matrix including the x0=1 for intercept\n",
    "    y: response variable\n",
    "    theta: initial value of the theta\n",
    "    \"\"\"\n",
    "\n",
    "    m = X.shape[0]# number of training examples\n",
    "    J=1/(2*m)*((np.array(X.dot(theta)[0])-np.array(y))**2).sum()\n",
    "    return J"
   ]
  },
  {
   "cell_type": "code",
   "execution_count": 22,
   "metadata": {
    "collapsed": true
   },
   "outputs": [],
   "source": [
    "def gradientDescent(X, y, theta, alpha, num_iters):\n",
    "    \n",
    "    \"\"\"\n",
    "    GRADIENTDESCENT Performs gradient descent to learn theta \n",
    "    theta = GRADIENTDESCENT(X, y, theta, alpha, num_iters) updates theta by\n",
    "    taking num_iters gradient steps with learning rate alpha\n",
    "    theta: initial value\n",
    "    alpha: learning rate\n",
    "    num_iters: Number of iterations\n",
    "    \"\"\"\n",
    "\n",
    "# Initialize some useful values\n",
    "    m = y.shape[0] # number of training examples\n",
    "    J_history = np.zeros((num_iters, 1))\n",
    "    theta_history=np.zeros((num_iters, X.shape[1]))\n",
    "    \n",
    "    for iter in range(num_iters):\n",
    "        theta=theta-(alpha/m*(np.array(X.dot(theta)[0])-np.array(y)).reshape(1,m).dot(X)).reshape(X.shape[1],1)\n",
    "\n",
    "    # Save the cost J in every iteration    \n",
    "        J_history[iter] = computeCost(X, y, theta)\n",
    "        theta_history[iter]=theta.reshape(1,X.shape[1])\n",
    "\n",
    "    return theta, J_history, theta_history"
   ]
  },
  {
   "cell_type": "code",
   "execution_count": 23,
   "metadata": {
    "collapsed": false
   },
   "outputs": [
    {
     "name": "stdout",
     "output_type": "stream",
     "text": [
      "[[ 340412.65957447]\n",
      " [ 110631.05027885]\n",
      " [  -6649.47427082]]\n"
     ]
    }
   ],
   "source": [
    "theta1, J_history, theta_history=gradientDescent(X_norm, y, np.zeros((3,1)), 0.05, 2000)\n",
    "print(theta1)"
   ]
  },
  {
   "cell_type": "code",
   "execution_count": 50,
   "metadata": {
    "collapsed": false
   },
   "outputs": [
    {
     "name": "stdout",
     "output_type": "stream",
     "text": [
      "               0\n",
      "0  293081.464335\n"
     ]
    },
    {
     "name": "stderr",
     "output_type": "stream",
     "text": [
      "C:\\Users\\jzhang11\\AppData\\Local\\Continuum\\Anaconda3\\lib\\site-packages\\ipykernel\\__main__.py:4: FutureWarning: reshape is deprecated and will raise in a subsequent release. Please use .values.reshape(...) instead\n"
     ]
    }
   ],
   "source": [
    "# predict future house price\n",
    "x0=np.array([1650,3])\n",
    "x0_norm=(x0-mu)/sigma\n",
    "x0_final=pd.concat((pd.DataFrame([1]), pd.DataFrame(x0_norm.reshape(1,2))), axis=1)\n",
    "y_pred=x0_final.dot(theta1)\n",
    "print(y_pred)"
   ]
  },
  {
   "cell_type": "markdown",
   "metadata": {},
   "source": [
    "### 3. Selecting learning rate"
   ]
  },
  {
   "cell_type": "code",
   "execution_count": 51,
   "metadata": {
    "collapsed": false
   },
   "outputs": [],
   "source": [
    "alpha=[0.001, 0.003, 0.01, 0.03, 0.1, 0.3, 1,3]\n",
    "J=np.zeros((50, len(alpha)))"
   ]
  },
  {
   "cell_type": "code",
   "execution_count": 52,
   "metadata": {
    "collapsed": false
   },
   "outputs": [],
   "source": [
    "for i in range(len(alpha)):\n",
    "    J[:,i]=gradientDescent(X_norm, y, np.zeros((3,1)), alpha[i], 50)[1].reshape(50,)"
   ]
  },
  {
   "cell_type": "code",
   "execution_count": 53,
   "metadata": {
    "collapsed": true
   },
   "outputs": [],
   "source": [
    "import matplotlib.pyplot as plt\n",
    "%matplotlib inline"
   ]
  },
  {
   "cell_type": "code",
   "execution_count": 106,
   "metadata": {
    "collapsed": false
   },
   "outputs": [
    {
     "data": {
      "text/plain": [
       "<matplotlib.legend.Legend at 0xb7ac898>"
      ]
     },
     "execution_count": 106,
     "metadata": {},
     "output_type": "execute_result"
    },
    {
     "data": {
      "image/png": "[encoded data removed]",
      "text/plain": [
       "<matplotlib.figure.Figure at 0xb73a1d0>"
      ]
     },
     "metadata": {},
     "output_type": "display_data"
    }
   ],
   "source": [
    "#plt.plot(range(50), J[:,0], C='r', label='0.001')  #converge very show\n",
    "#plt.plot(range(50), J[:,1], C='b', label='0.003')   #converge very slow\n",
    "plt.plot(range(50), J[:,2], C='m', label='0.01')\n",
    "plt.plot(range(50), J[:,3], C='y', label='0.03')\n",
    "plt.plot(range(50), J[:,4], C='k', label='0.1')\n",
    "plt.plot(range(50), J[:,5], C='r', label='0.3')\n",
    "#plt.plot(range(50), J[:,6], C='c', label='1')  # overshoot, too big to show\n",
    "#plt.plot(range(50), J[:,7], C='g', label='3')  # overshoot, too big to show\n",
    "plt.legend(loc='upper right')"
   ]
  },
  {
   "cell_type": "markdown",
   "metadata": {},
   "source": [
    "### 4. Normal equations\n",
    "\n",
    "theta=inv(x'x)*x'y\n",
    "\n",
    "numpy.linalg.pinv. Compute the (Moore-Penrose) pseudo-inverse of a matrix. Calculate the generalized inverse of a matrix using its singular-value decomposition (SVD) and including all large singular values. "
   ]
  },
  {
   "cell_type": "code",
   "execution_count": 54,
   "metadata": {
    "collapsed": false
   },
   "outputs": [],
   "source": [
    "X=pd.concat((pd.DataFrame(np.ones((m,1))), X), axis=1)"
   ]
  },
  {
   "cell_type": "code",
   "execution_count": 55,
   "metadata": {
    "collapsed": false
   },
   "outputs": [
    {
     "data": {
      "text/plain": [
       "array([ 89597.90954361,    139.21067402,  -8738.01911255])"
      ]
     },
     "execution_count": 55,
     "metadata": {},
     "output_type": "execute_result"
    }
   ],
   "source": [
    "theta=np.linalg.pinv(X.T.dot(X)).dot(X.T.dot(y))"
   ]
  },
  {
   "cell_type": "code",
   "execution_count": 57,
   "metadata": {
    "collapsed": false
   },
   "outputs": [
    {
     "data": {
      "text/plain": [
       "293081.46433498873"
      ]
     },
     "execution_count": 57,
     "metadata": {},
     "output_type": "execute_result"
    }
   ],
   "source": [
    "# Predict y_predict with square of 1650 and 3 bedrooms\n",
    "y_predict=np.array([1,1650,3]).dot(theta)\n",
    "print(y_predict)\n",
    "# we can see that the predicted value from normal equaltion is almost the same as that from the gradient descent"
   ]
  }
 ],
 "metadata": {
  "kernelspec": {
   "display_name": "Python 3",
   "language": "python",
   "name": "python3"
  },
  "language_info": {
   "codemirror_mode": {
    "name": "ipython",
    "version": 3
   },
   "file_extension": ".py",
   "mimetype": "text/x-python",
   "name": "python",
   "nbconvert_exporter": "python",
   "pygments_lexer": "ipython3",
   "version": "3.6.0"
  }
 },
 "nbformat": 4,
 "nbformat_minor": 2
}
