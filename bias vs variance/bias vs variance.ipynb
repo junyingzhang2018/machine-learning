{
 "cells": [
  {
   "cell_type": "markdown",
   "metadata": {},
   "source": [
    "### Regularized linear regression: vias versus variance\n",
    "\n",
    "In the first half of the exercise, you will implement regularized linear regression to predict the amount of water \n",
    "owing out of a dam using the change of water level in a reservoir."
   ]
  },
  {
   "cell_type": "code",
   "execution_count": 1,
   "metadata": {
    "collapsed": true
   },
   "outputs": [],
   "source": [
    "import numpy as np\n",
    "import pandas as pd\n",
    "import matplotlib.pyplot as plt\n",
    "%matplotlib inline"
   ]
  },
  {
   "cell_type": "markdown",
   "metadata": {},
   "source": [
    "### 1. Load the water datasets"
   ]
  },
  {
   "cell_type": "code",
   "execution_count": 4,
   "metadata": {
    "collapsed": false
   },
   "outputs": [],
   "source": [
    "from scipy.io import loadmat  # this is the SciPy module that loads mat-files\n",
    "data=loadmat('ex5data1.mat')"
   ]
  },
  {
   "cell_type": "code",
   "execution_count": 9,
   "metadata": {
    "collapsed": false
   },
   "outputs": [
    {
     "name": "stdout",
     "output_type": "stream",
     "text": [
      "<class 'dict'>\n",
      "\n",
      "dict_keys(['__header__', '__version__', '__globals__', 'X', 'y', 'Xtest', 'ytest', 'Xval', 'yval'])\n"
     ]
    }
   ],
   "source": [
    "# You will have X, y, Xval, yval, Xtest, ytest in your environment\n",
    "print(type(data))\n",
    "print('')\n",
    "print(data.keys())"
   ]
  },
  {
   "cell_type": "code",
   "execution_count": 22,
   "metadata": {
    "collapsed": false
   },
   "outputs": [],
   "source": [
    "# Create a dataframe water, water_test, water_train\n",
    "\n",
    "water=np.concatenate((data['X'], data['y']), axis=1)\n",
    "water=pd.DataFrame(water, columns=['X','y'])\n",
    "\n",
    "water_test=np.concatenate((data['Xtest'], data['ytest']), axis=1)\n",
    "water_test=pd.DataFrame(water, columns=['Xtest','ytest'])\n",
    "\n",
    "water_val=np.concatenate((data['Xval'], data['yval']), axis=1)\n",
    "water_val=pd.DataFrame(water, columns=['Xval','yval'])"
   ]
  },
  {
   "cell_type": "markdown",
   "metadata": {},
   "source": [
    "### 2. Visualization, plot the training data"
   ]
  },
  {
   "cell_type": "code",
   "execution_count": 27,
   "metadata": {
    "collapsed": false
   },
   "outputs": [
    {
     "data": {
      "image/png": "[encoded data removed]",
      "text/plain": [
       "<matplotlib.figure.Figure at 0xa78da20>"
      ]
     },
     "metadata": {},
     "output_type": "display_data"
    }
   ],
   "source": [
    "X=water['X']\n",
    "y=water['y']\n",
    "m = len(X)\n",
    "plt.scatter(X, y, c='r', marker='x');\n",
    "plt.xlabel('Change in water level (x)');\n",
    "plt.ylabel('Water flowing out of the dam (y)');\n"
   ]
  },
  {
   "cell_type": "markdown",
   "metadata": {},
   "source": [
    "### 3: Regularized Linear Regression Cost"
   ]
  },
  {
   "cell_type": "code",
   "execution_count": 30,
   "metadata": {
    "collapsed": false
   },
   "outputs": [],
   "source": [
    "theta =np.ones((2,1))\n",
    "X=pd.concat((pd.DataFrame(np.ones((m,1))), X), axis=1) # add x0=1 for X"
   ]
  },
  {
   "cell_type": "code",
   "execution_count": 32,
   "metadata": {
    "collapsed": true
   },
   "outputs": [],
   "source": [
    "def linearRegCostFunction(X, y, theta, lamb):\n",
    "    \"\"\"\n",
    "    LINEARREGCOSTFUNCTION Compute cost and gradient for regularized linear regression with multiple variables\n",
    "    [J, grad] = LINEARREGCOSTFUNCTION(X, y, theta, lambda) computes the cost of using theta as the parameter \n",
    "    for linear regression to fit the data points in X and y. Returns the cost in J and the gradient in grad\n",
    "    lamb: penalty factor\n",
    "    \"\"\"\n",
    "    thetanew=theta.copy()\n",
    "    thetanew[0]=0\n",
    "    m = len(y); # number of training examples\n",
    "    J = 0;\n",
    "    grad = np.zeros(len(theta))\n",
    "    J=1/(2*m)*((np.array(X.dot(theta)[0])-np.array(y))**2).sum()+(theta*theta).sum()*lamb/2/m\n",
    "    grad=1/m*((np.array(X.dot(theta)[0])-np.array(y)).reshape(1,m).dot(X)).reshape(X.shape[1],1)+lamb/m*thetanew\n",
    "    return J,grad"
   ]
  },
  {
   "cell_type": "code",
   "execution_count": 36,
   "metadata": {
    "collapsed": false
   },
   "outputs": [
    {
     "name": "stdout",
     "output_type": "stream",
     "text": [
      "Cost J returned by the function is: 304.034858887\n",
      "grad returned by the function is:  [[ -15.30301567]\n",
      " [ 598.25074417]]\n",
      "correct answer for cost is 303.993\n",
      "correct answer for grad is [-15.30, 598.25]\n"
     ]
    }
   ],
   "source": [
    "J,grad = linearRegCostFunction(X, y, theta, 1)\n",
    "print('Cost J returned by the function is:', J)\n",
    "print('grad returned by the function is: ', grad)\n",
    "print('correct answer for cost is 303.993')\n",
    "print('correct answer for grad is [-15.30, 598.25]')"
   ]
  },
  {
   "cell_type": "markdown",
   "metadata": {},
   "source": [
    "###  4: Train Linear Regression \n",
    "\n",
    "Once you have implemented the cost and gradient correctly, the trainLinearReg function will use your cost function to train regularized linear regression.\n",
    "\n",
    "Write Up Note: The data is non-linear, so this will not give a great fit."
   ]
  },
  {
   "cell_type": "code",
   "execution_count": 40,
   "metadata": {
    "collapsed": true
   },
   "outputs": [],
   "source": [
    "def trainLinearReg(X, y, lamb):\n",
    "    \n",
    "    \"\"\"Use scipy.optimize to get theta from X,y and regularization theta\"\"\"\n",
    "    import numpy as np\n",
    "    import scipy.optimize as op\n",
    "\n",
    "    X=np.array(X)\n",
    "    y=np.array(y)\n",
    "\n",
    "    def Gradient(theta,x,y):\n",
    "        m , n = x.shape\n",
    "        theta = theta.reshape((n,1))\n",
    "        newtheta=theta.copy()\n",
    "        newtheta[0]=0\n",
    "        y = y.reshape((m,1))\n",
    "        grad = ((x.T).dot(x.dot(theta)-y))/m+lamb/m*newtheta;\n",
    "        return grad.flatten();\n",
    "    \n",
    "    def CostFunc(theta,x,y):\n",
    "        m,n = x.shape; \n",
    "        theta = theta.reshape((n,1))\n",
    "        thetaofirst=np.delete(theta,0,0) \n",
    "        J = 1/(2*m)*((np.array(X.dot(theta)[0])-np.array(y))**2).sum()+lamb*(thetaofirst*thetaofirst).sum()/2/m ;\n",
    "        return J;\n",
    "\n",
    "    m , n = X.shape;\n",
    "    initial_theta = np.ones(n);\n",
    "    Result = op.minimize(fun = CostFunc, x0 = initial_theta, args = (X, y),method = 'TNC',jac = Gradient);\n",
    "    optimal_theta = Result.x;     \n",
    "    return optimal_theta"
   ]
  },
  {
   "cell_type": "code",
   "execution_count": 44,
   "metadata": {
    "collapsed": false
   },
   "outputs": [],
   "source": [
    "#  Train linear regression with lambda = 0\n",
    "lamb = 0;\n",
    "theta = trainLinearReg(X, y, lamb);\n",
    "y_pred=X.dot(theta)"
   ]
  },
  {
   "cell_type": "code",
   "execution_count": 46,
   "metadata": {
    "collapsed": false
   },
   "outputs": [
    {
     "data": {
      "text/plain": [
       "[<matplotlib.lines.Line2D at 0xb8f79b0>]"
      ]
     },
     "execution_count": 46,
     "metadata": {},
     "output_type": "execute_result"
    },
    {
     "data": {
      "image/png": "[encoded data removed]",
      "text/plain": [
       "<matplotlib.figure.Figure at 0xb9025f8>"
      ]
     },
     "metadata": {},
     "output_type": "display_data"
    }
   ],
   "source": [
    "#  Plot fit over the data\n",
    "plt.scatter(X['X'], y, c='r', marker='x');\n",
    "plt.xlabel('Change in water level (x)');\n",
    "plt.ylabel('Water flowing out of the dam (y)');\n",
    "plt.plot(X['X'], y_pred)"
   ]
  },
  {
   "cell_type": "code",
   "execution_count": null,
   "metadata": {
    "collapsed": true
   },
   "outputs": [],
   "source": []
  }
 ],
 "metadata": {
  "kernelspec": {
   "display_name": "Python 3",
   "language": "python",
   "name": "python3"
  },
  "language_info": {
   "codemirror_mode": {
    "name": "ipython",
    "version": 3
   },
   "file_extension": ".py",
   "mimetype": "text/x-python",
   "name": "python",
   "nbconvert_exporter": "python",
   "pygments_lexer": "ipython3",
   "version": "3.6.0"
  }
 },
 "nbformat": 4,
 "nbformat_minor": 2
}
